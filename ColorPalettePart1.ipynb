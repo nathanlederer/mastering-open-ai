{
 "cells": [
  {
   "cell_type": "code",
   "execution_count": 1,
   "id": "991741b5-bf21-4193-ae3f-90290195c1f3",
   "metadata": {},
   "outputs": [],
   "source": [
    "import openai\n",
    "import json"
   ]
  },
  {
   "cell_type": "code",
   "execution_count": 2,
   "id": "a5127dff-720f-4840-a06b-318361e79cb1",
   "metadata": {},
   "outputs": [],
   "source": [
    "from dotenv import dotenv_values \n",
    "config = dotenv_values(\".env\")"
   ]
  },
  {
   "cell_type": "code",
   "execution_count": 3,
   "id": "41b0e12e-e413-4c0d-8674-a49285d73de3",
   "metadata": {},
   "outputs": [],
   "source": [
    "openai.api_key=config[\"api_key\"]"
   ]
  },
  {
   "cell_type": "code",
   "execution_count": 4,
   "id": "d174facf-d744-439b-9204-4dd48f4808a6",
   "metadata": {},
   "outputs": [],
   "source": [
    "from IPython.display import Markdown, display\n",
    "\n",
    "def display_colors(colors):\n",
    "    display(Markdown(\" \".join(\n",
    "        f\"<span style='color: {color}'>{chr(9608) * 4}</span>\"\n",
    "        for color in colors\n",
    "    )))"
   ]
  },
  {
   "cell_type": "code",
   "execution_count": 5,
   "id": "0bacc513-181b-479d-83c4-09f98eb6f01b",
   "metadata": {},
   "outputs": [],
   "source": [
    "def get_and_render_colors(msg):\n",
    "    prompt = \"\"\" \n",
    "    You are a color generating generating assistant that responds to text prompts for color palettes. You should generate color palettes.\n",
    "    You should generate color pallettes that fit the theme, mood, or instructions in the prompt. The palettes should be between 2 and 8 colors.\n",
    "    \n",
    "    \n",
    "    Q: Convert the following verbal description of a color palette into a list of colors: The Mediterranean Sea\n",
    "    A: [\"#006699\", \"#66CCCC\", \"#F0E68C\", \"#008000\", \"#F08080\"]\n",
    "    \n",
    "    Q: Convert the following verbal description of a color palette into a list of colors: sage, nature, earth\n",
    "    A: [\"#EDF1D6\", \"#9DC08B\", \"#609966\", \"#40513B\"]\n",
    "        \n",
    "    Desired Format: a JSON array of hexadecimal color codes.\n",
    "    \n",
    "    Text: a beautiful sunset.\n",
    "    \n",
    "    Result:\n",
    "    \"\"\"\n",
    "    \n",
    "    response = openai.Completion.create(\n",
    "    model=\"text-davinci-003\",\n",
    "    prompt=prompt,\n",
    "    max_tokens=1000\n",
    "    )\n",
    "    colors = json.loads(response[\"choices\"][0][\"text\"])\n",
    "    display_colors(colors)"
   ]
  },
  {
   "cell_type": "code",
   "execution_count": 6,
   "id": "319926b5-8620-4a9d-8573-9ac795904a63",
   "metadata": {},
   "outputs": [
    {
     "data": {
      "text/markdown": [
       "<span style='color: #FF0033'>████</span> <span style='color: #FFA500'>████</span> <span style='color: #FFFF66'>████</span> <span style='color: #66CCFF'>████</span>"
      ],
      "text/plain": [
       "<IPython.core.display.Markdown object>"
      ]
     },
     "metadata": {},
     "output_type": "display_data"
    }
   ],
   "source": [
    "get_and_render_colors(\"flavored seltzer\")"
   ]
  },
  {
   "cell_type": "code",
   "execution_count": 7,
   "id": "b931d73f-4f57-4df3-804d-ccb91dd3c5ad",
   "metadata": {},
   "outputs": [
    {
     "data": {
      "text/markdown": [
       "<span style='color: #FFB74D'>████</span> <span style='color: #FF8A65'>████</span> <span style='color: #FFE082'>████</span> <span style='color: #F4CC80'>████</span> <span style='color: #F8D09B'>████</span>"
      ],
      "text/plain": [
       "<IPython.core.display.Markdown object>"
      ]
     },
     "metadata": {},
     "output_type": "display_data"
    }
   ],
   "source": [
    "get_and_render_colors(\"goth themed party\")"
   ]
  },
  {
   "cell_type": "code",
   "execution_count": null,
   "id": "55b3f532-52eb-42a3-a182-8f496cf97d31",
   "metadata": {},
   "outputs": [],
   "source": []
  }
 ],
 "metadata": {
  "kernelspec": {
   "display_name": "Python 3 (ipykernel)",
   "language": "python",
   "name": "python3"
  },
  "language_info": {
   "codemirror_mode": {
    "name": "ipython",
    "version": 3
   },
   "file_extension": ".py",
   "mimetype": "text/x-python",
   "name": "python",
   "nbconvert_exporter": "python",
   "pygments_lexer": "ipython3",
   "version": "3.11.4"
  }
 },
 "nbformat": 4,
 "nbformat_minor": 5
}
