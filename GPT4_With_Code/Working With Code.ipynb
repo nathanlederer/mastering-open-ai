{
 "cells": [
  {
   "cell_type": "code",
   "execution_count": 15,
   "id": "39d7ac80",
   "metadata": {},
   "outputs": [],
   "source": [
    "import openai"
   ]
  },
  {
   "cell_type": "code",
   "execution_count": 16,
   "id": "96de38cc",
   "metadata": {},
   "outputs": [],
   "source": [
    "from dotenv import dotenv_values"
   ]
  },
  {
   "cell_type": "code",
   "execution_count": 17,
   "id": "3b630436",
   "metadata": {},
   "outputs": [],
   "source": [
    "config = dotenv_values(\"../.env\")"
   ]
  },
  {
   "cell_type": "code",
   "execution_count": 18,
   "id": "b3cb65c7",
   "metadata": {},
   "outputs": [],
   "source": [
    "openai.api_key = config[\"OPENAI_API_KEY\"]"
   ]
  },
  {
   "cell_type": "markdown",
   "id": "84d3efc3",
   "metadata": {},
   "source": [
    "## Asking GPT-4 To Explain Code"
   ]
  },
  {
   "cell_type": "code",
   "execution_count": 19,
   "id": "abbf4824",
   "metadata": {},
   "outputs": [],
   "source": [
    "func = \"\"\"\n",
    "def remove_common_prefix(x, prefix, ws_prefix): \n",
    "    x[\"completion\"] = x[\"completion\"].str[len(prefix) :] \n",
    "    if ws_prefix: \n",
    "        # keep the single whitespace as prefix \n",
    "        x[\"completion\"] = \" \" + x[\"completion\"] \n",
    "return x \n",
    "\"\"\"\n",
    "messages = [\n",
    "    {\"role\":\"system\", \"content\": \"you are a Python explaining assistant\"},\n",
    "    {\"role\": \"user\", \"content\": f\"Explain the following function: {func}\"}\n",
    "]"
   ]
  },
  {
   "cell_type": "code",
   "execution_count": 20,
   "id": "00d65a72",
   "metadata": {},
   "outputs": [],
   "source": [
    "res = openai.ChatCompletion.create(\n",
    "    messages=messages,\n",
    "    model=\"gpt-4\"\n",
    ")"
   ]
  },
  {
   "cell_type": "code",
   "execution_count": 21,
   "id": "d60672c9",
   "metadata": {},
   "outputs": [
    {
     "name": "stdout",
     "output_type": "stream",
     "text": [
      "This function `remove_common_prefix(x, prefix, ws_prefix)` is used to modify the \"completion\" key in a dictionary `x` on the basis of some conditions.\n",
      "\n",
      "- Here, `x` is expected to be a dictionary (or other similar object, like a row from pandas DataFrame), `prefix` is a string that would be removed from the start of `x['completion']`, and `ws_prefix` is a boolean flag controlling whether to add a space at the beginning of `x['completion']` after the removal.\n",
      "\n",
      "- `x[\"completion\"] = x[\"completion\"].str[len(prefix) :]` This part of the function removes the `prefix` from the start of the string contained in `x['completion']`. This is done by slicing the string from the length of the `prefix` till the end, essentially skipping the part which is as long as `prefix`. \n",
      "\n",
      "- The `if ws_prefix:` condition checks if `ws_prefix` is `True`. If it is, it prefixes `\" \"` (a single space) to `x['completion']`. The line `x[\"completion\"] = \" \" + x['completion']` does this operation.\n",
      "\n",
      "- It then returns the modified dictionary `x`.\n",
      "\n",
      "Please note that the .str prefix is used for operations on pandas Series object (used to manipulate the Series' data). If `x` is a dictionary, the `.str` should be removed and the slice operation should be applied directly on a string.\n"
     ]
    }
   ],
   "source": [
    "print(res[\"choices\"][0][\"message\"][\"content\"])"
   ]
  },
  {
   "cell_type": "markdown",
   "id": "39d5e151",
   "metadata": {},
   "source": [
    "## Asking GPT-4 To Calculate Time Complexity"
   ]
  },
  {
   "cell_type": "code",
   "execution_count": 22,
   "id": "48145ca1",
   "metadata": {},
   "outputs": [],
   "source": [
    "bubble_sort = \"\"\"\n",
    "def sort(array):    \n",
    "  for i in range(len(array)):\n",
    "    for j in range(0, len(array) - i - 1):\n",
    "      if array[j] > array[j + 1]:\n",
    "        temp = array[j]\n",
    "        array[j] = array[j+1]\n",
    "        array[j+1] = temp\n",
    "\"\"\""
   ]
  },
  {
   "cell_type": "code",
   "execution_count": 23,
   "id": "0301aaef",
   "metadata": {},
   "outputs": [],
   "source": [
    "merge_sort = \"\"\"\n",
    "def partition(array, low, high):\n",
    "    pivot = array[high]\n",
    "    i = low - 1\n",
    " \n",
    "    for j in range(low, high):\n",
    "        if array[j] <= pivot:\n",
    "            i = i + 1\n",
    "            (array[i], array[j]) = (array[j], array[i])\n",
    "    (array[i + 1], array[high]) = (array[high], array[i + 1])\n",
    "    return i + 1\n",
    "  \n",
    "def sort(array, low, high):\n",
    "    if low < high:\n",
    "        pi = partition(array, low, high)\n",
    "        sort(array, low, pi - 1)\n",
    "        sort(array, pi + 1, high)\n",
    "\"\"\""
   ]
  },
  {
   "cell_type": "code",
   "execution_count": 24,
   "id": "8b57e0f3",
   "metadata": {},
   "outputs": [],
   "source": [
    "messages = [\n",
    "    {\"role\": \"user\", \"content\": f\"What is the time complexity of the following 'sort' function: {merge_sort}\"}\n",
    "]"
   ]
  }
 ],
 "metadata": {
  "kernelspec": {
   "display_name": "Python 3",
   "language": "python",
   "name": "python3"
  },
  "language_info": {
   "codemirror_mode": {
    "name": "ipython",
    "version": 3
   },
   "file_extension": ".py",
   "mimetype": "text/x-python",
   "name": "python",
   "nbconvert_exporter": "python",
   "pygments_lexer": "ipython3",
   "version": "3.11.4"
  }
 },
 "nbformat": 4,
 "nbformat_minor": 5
}
