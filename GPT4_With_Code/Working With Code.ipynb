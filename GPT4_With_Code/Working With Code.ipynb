{
 "cells": [
  {
   "cell_type": "code",
   "execution_count": 11,
   "id": "39d7ac80",
   "metadata": {},
   "outputs": [],
   "source": [
    "import openai"
   ]
  },
  {
   "cell_type": "code",
   "execution_count": 12,
   "id": "96de38cc",
   "metadata": {},
   "outputs": [],
   "source": [
    "from dotenv import dotenv_values"
   ]
  },
  {
   "cell_type": "code",
   "execution_count": 13,
   "id": "3b630436",
   "metadata": {},
   "outputs": [],
   "source": [
    "config = dotenv_values(\"../.env\")"
   ]
  },
  {
   "cell_type": "code",
   "execution_count": 14,
   "id": "b3cb65c7",
   "metadata": {},
   "outputs": [
    {
     "ename": "KeyError",
     "evalue": "'OPENAI_API_KEY'",
     "output_type": "error",
     "traceback": [
      "\u001b[1;31m---------------------------------------------------------------------------\u001b[0m",
      "\u001b[1;31mKeyError\u001b[0m                                  Traceback (most recent call last)",
      "\u001b[1;32mc:\\Users\\nlederer\\mastering_openai\\GPT4_With_Code\\Working With Code.ipynb Cell 4\u001b[0m line \u001b[0;36m1\n\u001b[1;32m----> <a href='vscode-notebook-cell:/c%3A/Users/nlederer/mastering_openai/GPT4_With_Code/Working%20With%20Code.ipynb#W3sZmlsZQ%3D%3D?line=0'>1</a>\u001b[0m openai\u001b[39m.\u001b[39mapi_key \u001b[39m=\u001b[39m config[\u001b[39m\"\u001b[39;49m\u001b[39mOPENAI_API_KEY\u001b[39;49m\u001b[39m\"\u001b[39;49m]\n",
      "\u001b[1;31mKeyError\u001b[0m: 'OPENAI_API_KEY'"
     ]
    }
   ],
   "source": [
    "openai.api_key = config[\"OPENAI_API_KEY\"]"
   ]
  },
  {
   "cell_type": "markdown",
   "id": "84d3efc3",
   "metadata": {},
   "source": [
    "## Asking GPT-4 To Explain Code"
   ]
  },
  {
   "cell_type": "code",
   "execution_count": null,
   "id": "abbf4824",
   "metadata": {},
   "outputs": [],
   "source": [
    "func = \"\"\"\n",
    "def remove_common_prefix(x, prefix, ws_prefix): \n",
    "    x[\"completion\"] = x[\"completion\"].str[len(prefix) :] \n",
    "    if ws_prefix: \n",
    "        # keep the single whitespace as prefix \n",
    "        x[\"completion\"] = \" \" + x[\"completion\"] \n",
    "return x \n",
    "\"\"\"\n",
    "messages = [\n",
    "    {\"role\":\"system\", \"content\": \"you are a Python explaining assistant\"},\n",
    "    {\"role\": \"user\", \"content\": f\"Explain the following function: {func}\"}\n",
    "]"
   ]
  },
  {
   "cell_type": "code",
   "execution_count": null,
   "id": "00d65a72",
   "metadata": {},
   "outputs": [],
   "source": [
    "res = openai.ChatCompletion.create(\n",
    "    messages=messages,\n",
    "    model=\"gpt-4\"\n",
    ")"
   ]
  },
  {
   "cell_type": "code",
   "execution_count": null,
   "id": "d60672c9",
   "metadata": {},
   "outputs": [
    {
     "name": "stdout",
     "output_type": "stream",
     "text": [
      "This is a Python function named `remove_common_prefix` that accepts three arguments - `x`, `prefix`, and `ws_prefix`.\n",
      "\n",
      "The argument `x` is expected to be a dictionary-like object (for example, a pandas DataFrame or Series) that contains a key named `\"completion\"` with a string-like object as its value.\n",
      "\n",
      "The argument `prefix` is expected to be a string that will be used to remove the prefix of the string in `x[\"completion\"]`.\n",
      "\n",
      "`ws_prefix` is a Boolean value (either `True` or `False`). If it's `True`, a single whitespace is added at the beginning of the `x[\"completion\"]` string.\n",
      "\n",
      "Here is a breakdown of the function:\n",
      "\n",
      "1. `x[\"completion\"] = x[\"completion\"].str[len(prefix) :]`\n",
      "   This line of code is slicing the string stored in `x[\"completion\"]`. The code `len(prefix) :` starts at the index after the length of the prefix string and continues to the end of the string. If the original string started with the provided prefix string, that prefix is effectively removed.\n",
      "\n",
      "2. `if ws_prefix:`  \n",
      "  This checks the Boolean value of `ws_prefix`. If `ws_prefix` is `True`, then the function will execute the operation inside this conditional block.\n",
      "\n",
      "3. `x[\"completion\"] = \" \" + x[\"completion\"]`  \n",
      "  Inside this if condition block, a single whitespace is added as a prefix to the string in `x[\"completion\"]`. This only happens if `ws_prefix` is `True`.\n",
      "\n",
      "At the end, the function returns the modified `x` object.\n",
      "\n",
      "Please note that this function would work seamlessly if `x` is a pandas DataFrame or Series and the values under `x[\"completion\"]` are specific string data types. This is because it utilizes pandas specific function `.str[]` for string slicing operation.\n"
     ]
    }
   ],
   "source": [
    "print(res[\"choices\"][0][\"message\"][\"content\"])"
   ]
  },
  {
   "cell_type": "markdown",
   "id": "39d5e151",
   "metadata": {},
   "source": [
    "## Asking GPT-4 To Calculate Time Complexity"
   ]
  },
  {
   "cell_type": "code",
   "execution_count": null,
   "id": "48145ca1",
   "metadata": {},
   "outputs": [],
   "source": [
    "bubble_sort = \"\"\"\n",
    "def sort(array):    \n",
    "  for i in range(len(array)):\n",
    "    for j in range(0, len(array) - i - 1):\n",
    "      if array[j] > array[j + 1]:\n",
    "        temp = array[j]\n",
    "        array[j] = array[j+1]\n",
    "        array[j+1] = temp\n",
    "\"\"\""
   ]
  },
  {
   "cell_type": "code",
   "execution_count": null,
   "id": "0301aaef",
   "metadata": {},
   "outputs": [],
   "source": [
    "merge_sort = \"\"\"\n",
    "def partition(array, low, high):\n",
    "    pivot = array[high]\n",
    "    i = low - 1\n",
    " \n",
    "    for j in range(low, high):\n",
    "        if array[j] <= pivot:\n",
    "            i = i + 1\n",
    "            (array[i], array[j]) = (array[j], array[i])\n",
    "    (array[i + 1], array[high]) = (array[high], array[i + 1])\n",
    "    return i + 1\n",
    "  \n",
    "def sort(array, low, high):\n",
    "    if low < high:\n",
    "        pi = partition(array, low, high)\n",
    "        sort(array, low, pi - 1)\n",
    "        sort(array, pi + 1, high)\n",
    "\"\"\""
   ]
  },
  {
   "cell_type": "code",
   "execution_count": null,
   "id": "8b57e0f3",
   "metadata": {},
   "outputs": [],
   "source": [
    "messages = [\n",
    "    {\"role\": \"user\", \"content\": f\"What is the time complexity of the following 'sort' function: {merge_sort}\"}\n",
    "]"
   ]
  }
 ],
 "metadata": {
  "kernelspec": {
   "display_name": "Python 3",
   "language": "python",
   "name": "python3"
  },
  "language_info": {
   "codemirror_mode": {
    "name": "ipython",
    "version": 3
   },
   "file_extension": ".py",
   "mimetype": "text/x-python",
   "name": "python",
   "nbconvert_exporter": "python",
   "pygments_lexer": "ipython3",
   "version": "3.11.4"
  }
 },
 "nbformat": 4,
 "nbformat_minor": 5
}
